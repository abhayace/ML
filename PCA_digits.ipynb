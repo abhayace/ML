{
 "cells": [
  {
   "cell_type": "markdown",
   "metadata": {},
   "source": [
    "# PCA"
   ]
  },
  {
   "cell_type": "markdown",
   "metadata": {},
   "source": [
    "### Reading the MNIST file in\n"
   ]
  },
  {
   "cell_type": "code",
   "execution_count": 2,
   "metadata": {
    "collapsed": true
   },
   "outputs": [],
   "source": [
    "import os\n",
    "import struct\n",
    "import numpy as np\n",
    "def read (path=\".\"):\n",
    "                                    \n",
    "    fname_img = os.path.join(path, 'train-images.idx3-ubyte')\n",
    "    fname_label = os.path.join(path, 'train-labels.idx1-ubyte')\n",
    "    \n",
    "    '''\n",
    "        [offset] [type]          [value]          [description]\n",
    "        0000     32 bit integer  0x00000803(2051) magic number\n",
    "        0004     32 bit integer  60000            number of images\n",
    "        0008     32 bit integer  28               number of rows\n",
    "        0012     32 bit integer  28               number of columns\n",
    "        0016     unsigned byte   ??               pixel\n",
    "        0017     unsigned byte   ??               pixel\n",
    "        ........\n",
    "        xxxx     unsigned byte   ??               pixel\n",
    "    '''\n",
    "    \n",
    "    with open(fname_img, 'rb') as img_file:\n",
    "        # >IIII : Big-Endian unsigned Integers. 4 bytes each\n",
    "        magic, num, rows, cols = struct.unpack(\">IIII\", img_file.read(16))\n",
    "        imgs = np.fromfile (img_file, dtype=np.uint8).reshape(num, rows, cols)\n",
    "    \n",
    "    '''\n",
    "        [offset] [type]          [value]          [description]\n",
    "        0000     32 bit integer  0x00000801(2049) magic number (MSB first)\n",
    "        0004     32 bit integer  10000            number of items\n",
    "        0008     unsigned byte   ??               label\n",
    "        0009     unsigned byte   ??               label\n",
    "        ........\n",
    "        xxxx     unsigned byte   ??               label\n",
    "    '''\n",
    "    \n",
    "    \n",
    "    with open(fname_label, 'rb') as lbl_file:\n",
    "        magic, num = struct.unpack('>II', lbl_file.read(8))\n",
    "        lbls = np.fromfile(lbl_file, dtype=np.int8)\n",
    "        \n",
    "    get_img = lambda idx: (lbls[idx], imgs[idx])\n",
    "    \n",
    "    for i in range(1,len(lbls)):\n",
    "        yield get_img(i)        \n",
    "        "
   ]
  },
  {
   "cell_type": "code",
   "execution_count": 3,
   "metadata": {
    "collapsed": true
   },
   "outputs": [],
   "source": [
    "%matplotlib inline"
   ]
  },
  {
   "cell_type": "code",
   "execution_count": 4,
   "metadata": {
    "collapsed": false
   },
   "outputs": [],
   "source": [
    "def show_image(img):\n",
    "    from matplotlib import pyplot\n",
    "    import matplotlib as mpl\n",
    "    \n",
    "    print (img.shape)\n",
    "    fig = pyplot.figure()\n",
    "    ax = fig.add_subplot(1,1,1)\n",
    "\n",
    "    imgplot = ax.imshow(img, cmap=\"gray\")\n",
    "    imgplot.set_interpolation('nearest')\n",
    "    ax.xaxis.set_ticks_position('top')\n",
    "    ax.yaxis.set_ticks_position('left')\n",
    "    pyplot.show()\n"
   ]
  },
  {
   "cell_type": "code",
   "execution_count": 5,
   "metadata": {
    "collapsed": false
   },
   "outputs": [],
   "source": [
    "if __name__==\"__main__\":\n",
    "    images = read(\"/home/abhay/WORK/ML/MNIST/DATA/\")\n",
    "    zeroImages = []\n",
    "    for img in images:\n",
    "        if img[0] == 0:\n",
    "            zeroImages.append(img[1])\n",
    "    anarr = []\n",
    "    for zero_img in zeroImages:\n",
    "        anarr.append(np.reshape(zero_img,(28*28,1)))\n",
    "    \n",
    "    final_arr_of_zeros = np.hstack(anarr)\n",
    "    mean_arr = np.reshape(np.mean(final_arr_of_zeros, axis = 1), (28*28,1))\n",
    "    #print (anarr[3] - mean_arr)\n",
    "    \n",
    "    N = len(zeroImages)\n",
    "    cov_mat = np.zeros((784,784))\n",
    "    \n",
    "    for X in anarr:\n",
    "        X = X - mean_arr\n",
    "        prod = np.dot(X,X.T)\n",
    "        cov_mat = cov_mat + prod\n",
    "    cov_mat = cov_mat/ (N-1)\n",
    "    "
   ]
  },
  {
   "cell_type": "code",
   "execution_count": 8,
   "metadata": {
    "collapsed": false
   },
   "outputs": [],
   "source": [
    "    (eigVals,eigVecs) = np.linalg.eig(cov_mat)\n",
    "    "
   ]
  },
  {
   "cell_type": "code",
   "execution_count": 67,
   "metadata": {
    "collapsed": false
   },
   "outputs": [
    {
     "name": "stdout",
     "output_type": "stream",
     "text": [
      "[0 1 2 3 4 5 6]\n",
      "(7, 784)\n"
     ]
    }
   ],
   "source": [
    "    M = 7\n",
    "    arr = eigVals.argsort()[::-1][:M]\n",
    "    print (arr)\n",
    "    eigs = eigVecs[arr]\n",
    "    print (eigs.shape)\n",
    "#     impEigVecs = eigVals[arr[-10:]])"
   ]
  },
  {
   "cell_type": "code",
   "execution_count": 68,
   "metadata": {
    "collapsed": false
   },
   "outputs": [
    {
     "name": "stdout",
     "output_type": "stream",
     "text": [
      "(784, 1)\n"
     ]
    }
   ],
   "source": [
    "    X = anarr [20]\n",
    "    yn = np.dot(eigs, (X - mean_arr))\n",
    "    \n",
    "    Xapprox = mean_arr + np.dot(eigs.T, yn)\n",
    "    print (Xapprox.shape)"
   ]
  },
  {
   "cell_type": "code",
   "execution_count": 69,
   "metadata": {
    "collapsed": false
   },
   "outputs": [
    {
     "name": "stderr",
     "output_type": "stream",
     "text": [
      "/home/abhay/anaconda3/lib/python3.5/site-packages/ipykernel/__main__.py:1: ComplexWarning: Casting complex values to real discards the imaginary part\n",
      "  if __name__ == '__main__':\n"
     ]
    }
   ],
   "source": [
    "    final_img = (np.reshape(Xapprox,(28,28))).astype(int)"
   ]
  },
  {
   "cell_type": "code",
   "execution_count": 70,
   "metadata": {
    "collapsed": false
   },
   "outputs": [
    {
     "name": "stdout",
     "output_type": "stream",
     "text": [
      "(28, 28)\n"
     ]
    },
    {
     "data": {
      "image/png": "[encoded data removed]",
      "text/plain": [
       "<matplotlib.figure.Figure at 0x7f533b096898>"
      ]
     },
     "metadata": {},
     "output_type": "display_data"
    },
    {
     "name": "stdout",
     "output_type": "stream",
     "text": [
      "[[  0   0   0   0   0   0   0   0   0   0   0   0   0   0   0   0   0   0\n",
      "    0   0   0   0   0   0   0   0   0   0]\n",
      " [  0   0   0   0   0   0   0   0   0   0   0   0   0   0   0   0   0   0\n",
      "    0   0   0   0   0   0   0   0   0   0]\n",
      " [  0   0   0   0   0   0   0   0   0   0   0   0   0   0   0   0   0   0\n",
      "    0   0   0   0   0   0   0   0   0   0]\n",
      " [  0   0   0   0   0   0   0   0   0   0   0   1   2   3   3   4   4   3\n",
      "    2   2   1   0   0   0   0   0   0   0]\n",
      " [  0   0   0   0   0   0   0   0   1   3   7  14  25  39  52  63  66  61\n",
      "   49  36  21  10   4   1   0   0   0   0]\n",
      " [  0   0   0   0   0   0   0   1   4  11  24  43  69  99 125 143 150 140\n",
      "  118  89  57  31  13   3   0   0   0   0]\n",
      " [  0   0   0   0   0   0   1   4  12  27  51  83 117 149 172 187 192 188\n",
      "  171 139 101  62  30   9   1   0   0   0]\n",
      " [  0   0   0   0   0   1   3  10  25  51  85 121 152 173 184 188 189 192\n",
      "  188 170 137  95  54  20   3   0   0   0]\n",
      " [  0   0   0   0   0   1   7  20  46  80 118 150 169 172 166 158 154 157\n",
      "  169 174 160 124  78  34   7   0   0   0]\n",
      " [  0   0   0   0   0   3  14  37  70 111 146 165 166 152 130 112 101 107\n",
      "  129 156 165 145 102  50  11   0   0   0]\n",
      " [  0   0   0   0   0   7  25  57  98 137 162 165 146 117  87  65  55  62\n",
      "   90 129 159 156 121  65  17   0   0   0]\n",
      " [  0   0   0   0   1  13  40  81 125 157 166 148 113  77  48  31  27  36\n",
      "   63 108 149 160 133  79  22   0   0   0]\n",
      " [  0   0   0   0   2  22  60 107 147 166 156 120  77  43  22  14  13  23\n",
      "   51  96 141 159 137  87  28   0   0   0]\n",
      " [  0   0   0   0   5  34  81 131 162 165 135  87  44  20   9   6   8  19\n",
      "   48  93 138 157 136  88  30   1   0   0]\n",
      " [  0   0   0   0   8  50 103 150 169 153 108  57  23   9   4   4   7  22\n",
      "   55 100 141 155 130  83  30   1   0   0]\n",
      " [  0   0   0   0  13  65 121 162 168 136  83  36  13   4   3   4  11  33\n",
      "   70 114 147 149 120  73  26   1   0   0]\n",
      " [  0   0   0   0  18  79 134 167 162 119  65  25   8   3   4   9  23  53\n",
      "   94 134 152 140 104  59  19   0   0   0]\n",
      " [  0   0   0   0  23  87 140 169 157 111  57  23  10   7  12  24  49  86\n",
      "  124 150 150 123  83  42  12   0   0   0]\n",
      " [  0   0   0   0  25  86 140 169 159 115  66  34  22  23  35  58  89 124\n",
      "  150 156 136  99  60  26   6   0   0   0]\n",
      " [  0   0   0   0  24  78 132 168 168 138  97  67  57  62  80 106 134 156\n",
      "  160 142 109  71  37  13   2   0   0   0]\n",
      " [  0   0   0   0  18   0   0  23 188 253 249 179 118 123 137 155 167 165\n",
      "  145 112  75  43  18   5   0   0   0   0]\n",
      " [  0   0   0   0  10  40  85 134 173 194 196 188 181 180 181 180 167 141\n",
      "  107  72  41  19   6   1   0   0   0   0]\n",
      " [  0   0   0   0   4  20  50  91 134 170 193 201 200 194 179 156 125  91\n",
      "   59  33  15   5   1   0   0   0   0   0]\n",
      " [  0   0   0   0   0   5  17  40  69 101 127 144 146 134 113  86  60  37\n",
      "   19   8   3   0   0   0   0   0   0   0]\n",
      " [  0   0   0   0   0   0   2   5  12  20  29  35  36  34  27  19  12   6\n",
      "    2   1   0   0   0   0   0   0   0   0]\n",
      " [  0   0   0   0   0   0   0   0   0   0   0   0   0   0   0   0   0   0\n",
      "    0   0   0   0   0   0   0   0   0   0]\n",
      " [  0   0   0   0   0   0   0   0   0   0   0   0   0   0   0   0   0   0\n",
      "    0   0   0   0   0   0   0   0   0   0]\n",
      " [  0   0   0   0   0   0   0   0   0   0   0   0   0   0   0   0   0   0\n",
      "    0   0   0   0   0   0   0   0   0   0]]\n",
      "(28, 28)\n"
     ]
    },
    {
     "data": {
      "image/png": "[encoded data removed]",
      "text/plain": [
       "<matplotlib.figure.Figure at 0x7f533af650f0>"
      ]
     },
     "metadata": {},
     "output_type": "display_data"
    },
    {
     "name": "stdout",
     "output_type": "stream",
     "text": [
      "[[  0   0   0   0   0   0   0   0   0   0   0   0   0   0   0   0   0   0\n",
      "    0   0   0   0   0   0   0   0   0   0]\n",
      " [  0   0   0   0   0   0   0   0   0   0   0   0   0   0   0   0   0   0\n",
      "    0   0   0   0   0   0   0   0   0   0]\n",
      " [  0   0   0   0   0   0   0   0   0   0   0   0   0   0   0   0   0   0\n",
      "    0   0   0   0   0   0   0   0   0   0]\n",
      " [  0   0   0   0   0   0   0   0   0   0   0   0   0   0  70 255 165 114\n",
      "    0   0   0   0   0   0   0   0   0   0]\n",
      " [  0   0   0   0   0   0   0   0   0   0   0   0   0   0 122 253 253 253\n",
      "  120   0   0   0   0   0   0   0   0   0]\n",
      " [  0   0   0   0   0   0   0   0   0   0   0   0   0   0 165 253 253 253\n",
      "  234  52   0   0   0   0   0   0   0   0]\n",
      " [  0   0   0   0   0   0   0   0   0   0   0   0   0   0  99 253 253 253\n",
      "  253 228  26   0   0   0   0   0   0   0]\n",
      " [  0   0   0   0   0   0   0   0   0   0   0   0  60 168 238 202 174 253\n",
      "  253 253 127   0   0   0   0   0   0   0]\n",
      " [  0   0   0   0   0   0   0   0   0   0  91  81   1 215 128  28  12 181\n",
      "  253 253 175   3   0   0   0   0   0   0]\n",
      " [  0   0   0   0   0   0   0   0   0  18 204 253  77   0   0   0   0   7\n",
      "  253 253 253  54   0   0   0   0   0   0]\n",
      " [  0   0   0   0   0   0   0   0  54 248 253 253 143   0   0   0   0   1\n",
      "  127 253 253 188   0   0   0   0   0   0]\n",
      " [  0   0   0   0   0   0   0   0 104 253 253 253  20   0   0   0   0   0\n",
      "   81 249 253 191   0   0   0   0   0   0]\n",
      " [  0   0   0   0   0   0   0   0 192 253 253 218   5   0   0   0   0   0\n",
      "    0 203 253 208  21   0   0   0   0   0]\n",
      " [  0   0   0   0   0   0   0  56 237 253 250 100   0   0   0   0   0   0\n",
      "    0 104 253 253  75   0   0   0   0   0]\n",
      " [  0   0   0   0   0   0   0  76 253 253 224   0   0   0   0   0   0   0\n",
      "    0 119 253 253  75   0   0   0   0   0]\n",
      " [  0   0   0   0   0   0   0  80 253 253 103   0   0   0   0   0   0   0\n",
      "    4 241 253 218  32   0   0   0   0   0]\n",
      " [  0   0   0   0   0   0   0 213 253 253 103   0   0   0   0   0   0   0\n",
      "  125 253 253 191   0   0   0   0   0   0]\n",
      " [  0   0   0   0   0   0   0 213 253 253 103   0   0   0   0   0   0   3\n",
      "  176 253 253 135   0   0   0   0   0   0]\n",
      " [  0   0   0   0   0   0   0 213 253 253 103   0   0   0   0   0   9 162\n",
      "  253 253 226  37   0   0   0   0   0   0]\n",
      " [  0   0   0   0   0   0   0 179 253 253 135   0   0   0   0  46 157 253\n",
      "  253 253  63   0   0   0   0   0   0   0]\n",
      " [  0   0   0   0   0   0   0  23 188 253 249 179 179 179 179 233 253 253\n",
      "  233 156  10   0   0   0   0   0   0   0]\n",
      " [  0   0   0   0   0   0   0   0  51 235 253 253 253 253 253 253 251 232\n",
      "  120   0   0   0   0   0   0   0   0   0]\n",
      " [  0   0   0   0   0   0   0   0   0  16 124 253 253 253 253 152 104   0\n",
      "    0   0   0   0   0   0   0   0   0   0]\n",
      " [  0   0   0   0   0   0   0   0   0   0   0   0   0   0   0   0   0   0\n",
      "    0   0   0   0   0   0   0   0   0   0]\n",
      " [  0   0   0   0   0   0   0   0   0   0   0   0   0   0   0   0   0   0\n",
      "    0   0   0   0   0   0   0   0   0   0]\n",
      " [  0   0   0   0   0   0   0   0   0   0   0   0   0   0   0   0   0   0\n",
      "    0   0   0   0   0   0   0   0   0   0]\n",
      " [  0   0   0   0   0   0   0   0   0   0   0   0   0   0   0   0   0   0\n",
      "    0   0   0   0   0   0   0   0   0   0]\n",
      " [  0   0   0   0   0   0   0   0   0   0   0   0   0   0   0   0   0   0\n",
      "    0   0   0   0   0   0   0   0   0   0]]\n"
     ]
    }
   ],
   "source": [
    "    \n",
    "    show_image (final_img)\n",
    "    \n",
    "    print(final_img)\n",
    "    actual = np.reshape(X,(28,28))\n",
    "    show_image (actual)\n",
    "    print (actual)"
   ]
  },
  {
   "cell_type": "code",
   "execution_count": null,
   "metadata": {
    "collapsed": true
   },
   "outputs": [],
   "source": []
  },
  {
   "cell_type": "code",
   "execution_count": null,
   "metadata": {
    "collapsed": true
   },
   "outputs": [],
   "source": []
  }
 ],
 "metadata": {
  "kernelspec": {
   "display_name": "Python 3",
   "language": "python",
   "name": "python3"
  },
  "language_info": {
   "codemirror_mode": {
    "name": "ipython",
    "version": 3
   },
   "file_extension": ".py",
   "mimetype": "text/x-python",
   "name": "python",
   "nbconvert_exporter": "python",
   "pygments_lexer": "ipython3",
   "version": "3.5.2"
  }
 },
 "nbformat": 4,
 "nbformat_minor": 2
}
